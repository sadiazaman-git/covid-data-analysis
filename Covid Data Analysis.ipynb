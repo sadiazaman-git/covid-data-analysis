{
 "cells": [
  {
   "cell_type": "markdown",
   "id": "c5cd1d88",
   "metadata": {},
   "source": [
    "## Data"
   ]
  },
  {
   "cell_type": "markdown",
   "id": "e5a6b1df",
   "metadata": {},
   "source": [
    "This data was scraped from woldometers.info on 2022-05-14 by Joseph Assaker.\n",
    "\n",
    "225 countries are represented in this data.\n",
    "\n",
    "All of countries have records dating from 2020-2-15 until 2022-05-14 (820 days per country).\n",
    "That's with the exception of China, which has records dating from 2020-1-22 until 2022-05-14 (844 days per country), and Palau which has records dating from 2021-8-25 until 2022-05-14 (263 days per country)"
   ]
  },
  {
   "cell_type": "markdown",
   "id": "7c916240",
   "metadata": {},
   "source": [
    "There are two files in the dataset\n",
    "\n",
    "1) Summary Data Columns Description:\n",
    "* **country:** designates the Country in which the the row's data was observed.\n",
    "* **continent:** designates the Continent of the observed country.\n",
    "* **total_confirmed:** designates the total number of confirmed cases in the observed country.\n",
    "* **total_deaths:** designates the total number of confirmed deaths in the observed country.\n",
    "* **total_recovered:** designates the total number of confirmed recoveries in the observed country.\n",
    "* **active_cases:** designates the number of active cases in the observed country.\n",
    "* **serious_or_critical:** designates the estimated number of cases in serious or critical conditions in the observed country.\n",
    "* **total_cases_per_1m_population:** designates the number of total cases per 1 million population in the observed country.\n",
    "* **total_deaths_per_1m_population:** designates the number of total deaths per 1 million population in the observed country.\n",
    "* **total_tests:** designates the number of total tests done in the observed country.\n",
    "* **total_tests_per_1m_population:** designates the number of total test done per 1 million population in the observed country.\n",
    "* **population:** designates the population count in the observed country.\n",
    "    \n",
    "2) Daily Data Columns Description:\n",
    "* **date:** designates the date of observation of the row's data in YYYY-MM-DD format.\n",
    "* **country:** designates the Country in which the the row's data was observed.\n",
    "* **cumulative_total_cases:** designates the cumulative number of confirmed cases as of the row's date, for the row's country.\n",
    "* **daily_new_cases:** designates the daily new number of confirmed cases on the row's date, for the row's country.\n",
    "* **active_cases:** designates the number of active cases (i.e., confirmed cases that still didn't recover nor die) on the row's date, for the row's country.\n",
    "* **cumulative_total_deaths:** designates the cumulative number of confirmed deaths as of the row's date, for the row's country.\n",
    "* **daily_new_deaths:** designates the daily new number of confirmed deaths on the row's date, for the row's country."
   ]
  },
  {
   "cell_type": "markdown",
   "id": "aaf9cd83",
   "metadata": {},
   "source": [
    "Source of the Dataset : https://www.kaggle.com/datasets/josephassaker/covid19-global-dataset"
   ]
  },
  {
   "cell_type": "markdown",
   "id": "80d7131d",
   "metadata": {},
   "source": [
    "## Import"
   ]
  },
  {
   "cell_type": "markdown",
   "id": "6beb6157",
   "metadata": {},
   "source": [
    "### Import Data and Required libraries"
   ]
  },
  {
   "cell_type": "code",
   "execution_count": 2,
   "id": "b6482db9",
   "metadata": {},
   "outputs": [],
   "source": [
    "import pandas as pd\n",
    "import matplotlib.pyplot as plt\n",
    "import seaborn as sns"
   ]
  },
  {
   "cell_type": "code",
   "execution_count": 5,
   "id": "d0007873",
   "metadata": {},
   "outputs": [
    {
     "data": {
      "text/html": [
       "<div>\n",
       "<style scoped>\n",
       "    .dataframe tbody tr th:only-of-type {\n",
       "        vertical-align: middle;\n",
       "    }\n",
       "\n",
       "    .dataframe tbody tr th {\n",
       "        vertical-align: top;\n",
       "    }\n",
       "\n",
       "    .dataframe thead th {\n",
       "        text-align: right;\n",
       "    }\n",
       "</style>\n",
       "<table border=\"1\" class=\"dataframe\">\n",
       "  <thead>\n",
       "    <tr style=\"text-align: right;\">\n",
       "      <th></th>\n",
       "      <th>date</th>\n",
       "      <th>country</th>\n",
       "      <th>cumulative_total_cases</th>\n",
       "      <th>daily_new_cases</th>\n",
       "      <th>active_cases</th>\n",
       "      <th>cumulative_total_deaths</th>\n",
       "      <th>daily_new_deaths</th>\n",
       "    </tr>\n",
       "  </thead>\n",
       "  <tbody>\n",
       "    <tr>\n",
       "      <th>0</th>\n",
       "      <td>2020-2-15</td>\n",
       "      <td>Afghanistan</td>\n",
       "      <td>0.0</td>\n",
       "      <td>NaN</td>\n",
       "      <td>0.0</td>\n",
       "      <td>0.0</td>\n",
       "      <td>NaN</td>\n",
       "    </tr>\n",
       "    <tr>\n",
       "      <th>1</th>\n",
       "      <td>2020-2-16</td>\n",
       "      <td>Afghanistan</td>\n",
       "      <td>0.0</td>\n",
       "      <td>NaN</td>\n",
       "      <td>0.0</td>\n",
       "      <td>0.0</td>\n",
       "      <td>NaN</td>\n",
       "    </tr>\n",
       "    <tr>\n",
       "      <th>2</th>\n",
       "      <td>2020-2-17</td>\n",
       "      <td>Afghanistan</td>\n",
       "      <td>0.0</td>\n",
       "      <td>NaN</td>\n",
       "      <td>0.0</td>\n",
       "      <td>0.0</td>\n",
       "      <td>NaN</td>\n",
       "    </tr>\n",
       "    <tr>\n",
       "      <th>3</th>\n",
       "      <td>2020-2-18</td>\n",
       "      <td>Afghanistan</td>\n",
       "      <td>0.0</td>\n",
       "      <td>NaN</td>\n",
       "      <td>0.0</td>\n",
       "      <td>0.0</td>\n",
       "      <td>NaN</td>\n",
       "    </tr>\n",
       "    <tr>\n",
       "      <th>4</th>\n",
       "      <td>2020-2-19</td>\n",
       "      <td>Afghanistan</td>\n",
       "      <td>0.0</td>\n",
       "      <td>NaN</td>\n",
       "      <td>0.0</td>\n",
       "      <td>0.0</td>\n",
       "      <td>NaN</td>\n",
       "    </tr>\n",
       "  </tbody>\n",
       "</table>\n",
       "</div>"
      ],
      "text/plain": [
       "        date      country  cumulative_total_cases  daily_new_cases  \\\n",
       "0  2020-2-15  Afghanistan                     0.0              NaN   \n",
       "1  2020-2-16  Afghanistan                     0.0              NaN   \n",
       "2  2020-2-17  Afghanistan                     0.0              NaN   \n",
       "3  2020-2-18  Afghanistan                     0.0              NaN   \n",
       "4  2020-2-19  Afghanistan                     0.0              NaN   \n",
       "\n",
       "   active_cases  cumulative_total_deaths  daily_new_deaths  \n",
       "0           0.0                      0.0               NaN  \n",
       "1           0.0                      0.0               NaN  \n",
       "2           0.0                      0.0               NaN  \n",
       "3           0.0                      0.0               NaN  \n",
       "4           0.0                      0.0               NaN  "
      ]
     },
     "execution_count": 5,
     "metadata": {},
     "output_type": "execute_result"
    }
   ],
   "source": [
    "#importing daily dataframe\n",
    "daily_df = pd.read_csv('data/worldometer_coronavirus_daily_data.csv')\n",
    "daily_df.head()"
   ]
  },
  {
   "cell_type": "code",
   "execution_count": 6,
   "id": "6d255634",
   "metadata": {},
   "outputs": [
    {
     "data": {
      "text/html": [
       "<div>\n",
       "<style scoped>\n",
       "    .dataframe tbody tr th:only-of-type {\n",
       "        vertical-align: middle;\n",
       "    }\n",
       "\n",
       "    .dataframe tbody tr th {\n",
       "        vertical-align: top;\n",
       "    }\n",
       "\n",
       "    .dataframe thead th {\n",
       "        text-align: right;\n",
       "    }\n",
       "</style>\n",
       "<table border=\"1\" class=\"dataframe\">\n",
       "  <thead>\n",
       "    <tr style=\"text-align: right;\">\n",
       "      <th></th>\n",
       "      <th>country</th>\n",
       "      <th>continent</th>\n",
       "      <th>total_confirmed</th>\n",
       "      <th>total_deaths</th>\n",
       "      <th>total_recovered</th>\n",
       "      <th>active_cases</th>\n",
       "      <th>serious_or_critical</th>\n",
       "      <th>total_cases_per_1m_population</th>\n",
       "      <th>total_deaths_per_1m_population</th>\n",
       "      <th>total_tests</th>\n",
       "      <th>total_tests_per_1m_population</th>\n",
       "      <th>population</th>\n",
       "    </tr>\n",
       "  </thead>\n",
       "  <tbody>\n",
       "    <tr>\n",
       "      <th>0</th>\n",
       "      <td>Afghanistan</td>\n",
       "      <td>Asia</td>\n",
       "      <td>179267</td>\n",
       "      <td>7690.0</td>\n",
       "      <td>162202.0</td>\n",
       "      <td>9375.0</td>\n",
       "      <td>1124.0</td>\n",
       "      <td>4420</td>\n",
       "      <td>190.0</td>\n",
       "      <td>951337.0</td>\n",
       "      <td>23455.0</td>\n",
       "      <td>40560636</td>\n",
       "    </tr>\n",
       "    <tr>\n",
       "      <th>1</th>\n",
       "      <td>Albania</td>\n",
       "      <td>Europe</td>\n",
       "      <td>275574</td>\n",
       "      <td>3497.0</td>\n",
       "      <td>271826.0</td>\n",
       "      <td>251.0</td>\n",
       "      <td>2.0</td>\n",
       "      <td>95954</td>\n",
       "      <td>1218.0</td>\n",
       "      <td>1817530.0</td>\n",
       "      <td>632857.0</td>\n",
       "      <td>2871945</td>\n",
       "    </tr>\n",
       "    <tr>\n",
       "      <th>2</th>\n",
       "      <td>Algeria</td>\n",
       "      <td>Africa</td>\n",
       "      <td>265816</td>\n",
       "      <td>6875.0</td>\n",
       "      <td>178371.0</td>\n",
       "      <td>80570.0</td>\n",
       "      <td>6.0</td>\n",
       "      <td>5865</td>\n",
       "      <td>152.0</td>\n",
       "      <td>230861.0</td>\n",
       "      <td>5093.0</td>\n",
       "      <td>45325517</td>\n",
       "    </tr>\n",
       "    <tr>\n",
       "      <th>3</th>\n",
       "      <td>Andorra</td>\n",
       "      <td>Europe</td>\n",
       "      <td>42156</td>\n",
       "      <td>153.0</td>\n",
       "      <td>41021.0</td>\n",
       "      <td>982.0</td>\n",
       "      <td>14.0</td>\n",
       "      <td>543983</td>\n",
       "      <td>1974.0</td>\n",
       "      <td>249838.0</td>\n",
       "      <td>3223924.0</td>\n",
       "      <td>77495</td>\n",
       "    </tr>\n",
       "    <tr>\n",
       "      <th>4</th>\n",
       "      <td>Angola</td>\n",
       "      <td>Africa</td>\n",
       "      <td>99194</td>\n",
       "      <td>1900.0</td>\n",
       "      <td>97149.0</td>\n",
       "      <td>145.0</td>\n",
       "      <td>NaN</td>\n",
       "      <td>2853</td>\n",
       "      <td>55.0</td>\n",
       "      <td>1499795.0</td>\n",
       "      <td>43136.0</td>\n",
       "      <td>34769277</td>\n",
       "    </tr>\n",
       "  </tbody>\n",
       "</table>\n",
       "</div>"
      ],
      "text/plain": [
       "       country continent  total_confirmed  total_deaths  total_recovered  \\\n",
       "0  Afghanistan      Asia           179267        7690.0         162202.0   \n",
       "1      Albania    Europe           275574        3497.0         271826.0   \n",
       "2      Algeria    Africa           265816        6875.0         178371.0   \n",
       "3      Andorra    Europe            42156         153.0          41021.0   \n",
       "4       Angola    Africa            99194        1900.0          97149.0   \n",
       "\n",
       "   active_cases  serious_or_critical  total_cases_per_1m_population  \\\n",
       "0        9375.0               1124.0                           4420   \n",
       "1         251.0                  2.0                          95954   \n",
       "2       80570.0                  6.0                           5865   \n",
       "3         982.0                 14.0                         543983   \n",
       "4         145.0                  NaN                           2853   \n",
       "\n",
       "   total_deaths_per_1m_population  total_tests  total_tests_per_1m_population  \\\n",
       "0                           190.0     951337.0                        23455.0   \n",
       "1                          1218.0    1817530.0                       632857.0   \n",
       "2                           152.0     230861.0                         5093.0   \n",
       "3                          1974.0     249838.0                      3223924.0   \n",
       "4                            55.0    1499795.0                        43136.0   \n",
       "\n",
       "   population  \n",
       "0    40560636  \n",
       "1     2871945  \n",
       "2    45325517  \n",
       "3       77495  \n",
       "4    34769277  "
      ]
     },
     "execution_count": 6,
     "metadata": {},
     "output_type": "execute_result"
    }
   ],
   "source": [
    "#importing summary Data\n",
    "summary_df = pd.read_csv('data/worldometer_coronavirus_summary_data.csv')\n",
    "summary_df.head()"
   ]
  },
  {
   "cell_type": "markdown",
   "id": "580d41b2",
   "metadata": {},
   "source": [
    "## Data Preparation "
   ]
  },
  {
   "cell_type": "markdown",
   "id": "dcc707cd",
   "metadata": {},
   "source": [
    "### Basic Analysis"
   ]
  },
  {
   "cell_type": "code",
   "execution_count": 8,
   "id": "f326b0c5",
   "metadata": {},
   "outputs": [
    {
     "data": {
      "text/plain": [
       "(184787, 7)"
      ]
     },
     "execution_count": 8,
     "metadata": {},
     "output_type": "execute_result"
    }
   ],
   "source": [
    "#shape of both data\n",
    "daily_df.shape"
   ]
  },
  {
   "cell_type": "markdown",
   "id": "639c29e8",
   "metadata": {},
   "source": [
    "We have 184787 number of records and 7 columns in daily dataset"
   ]
  },
  {
   "cell_type": "code",
   "execution_count": 9,
   "id": "f3f1a025",
   "metadata": {},
   "outputs": [
    {
     "data": {
      "text/plain": [
       "(226, 12)"
      ]
     },
     "execution_count": 9,
     "metadata": {},
     "output_type": "execute_result"
    }
   ],
   "source": [
    "summary_df.shape"
   ]
  },
  {
   "cell_type": "markdown",
   "id": "8ca79edc",
   "metadata": {},
   "source": [
    "we have 226 number of records and 12 columns in summary data"
   ]
  },
  {
   "cell_type": "code",
   "execution_count": 10,
   "id": "04eac4f9",
   "metadata": {},
   "outputs": [
    {
     "data": {
      "text/plain": [
       "date                        object\n",
       "country                     object\n",
       "cumulative_total_cases     float64\n",
       "daily_new_cases            float64\n",
       "active_cases               float64\n",
       "cumulative_total_deaths    float64\n",
       "daily_new_deaths           float64\n",
       "dtype: object"
      ]
     },
     "execution_count": 10,
     "metadata": {},
     "output_type": "execute_result"
    }
   ],
   "source": [
    "#check data types\n",
    "daily_df.dtypes"
   ]
  },
  {
   "cell_type": "markdown",
   "id": "30873869",
   "metadata": {},
   "source": [
    "* Here date needed to be fixed, it should be datatime instead of object"
   ]
  },
  {
   "cell_type": "code",
   "execution_count": 11,
   "id": "23b68f0d",
   "metadata": {},
   "outputs": [
    {
     "data": {
      "text/plain": [
       "date                           0\n",
       "country                        0\n",
       "cumulative_total_cases         0\n",
       "daily_new_cases            10458\n",
       "active_cases               18040\n",
       "cumulative_total_deaths     6560\n",
       "daily_new_deaths           26937\n",
       "dtype: int64"
      ]
     },
     "execution_count": 11,
     "metadata": {},
     "output_type": "execute_result"
    }
   ],
   "source": [
    "#check if there is any null values\n",
    "daily_df.isna().sum()"
   ]
  },
  {
   "cell_type": "markdown",
   "id": "e46767a0",
   "metadata": {},
   "source": [
    "There are many null values in the data set but wrt to overall data size the  null values are minor."
   ]
  },
  {
   "cell_type": "markdown",
   "id": "435da8f7",
   "metadata": {},
   "source": [
    "#### Statistical Summary of Data"
   ]
  },
  {
   "cell_type": "code",
   "execution_count": 12,
   "id": "8ceab084",
   "metadata": {},
   "outputs": [
    {
     "data": {
      "text/html": [
       "<div>\n",
       "<style scoped>\n",
       "    .dataframe tbody tr th:only-of-type {\n",
       "        vertical-align: middle;\n",
       "    }\n",
       "\n",
       "    .dataframe tbody tr th {\n",
       "        vertical-align: top;\n",
       "    }\n",
       "\n",
       "    .dataframe thead th {\n",
       "        text-align: right;\n",
       "    }\n",
       "</style>\n",
       "<table border=\"1\" class=\"dataframe\">\n",
       "  <thead>\n",
       "    <tr style=\"text-align: right;\">\n",
       "      <th></th>\n",
       "      <th>cumulative_total_cases</th>\n",
       "      <th>daily_new_cases</th>\n",
       "      <th>active_cases</th>\n",
       "      <th>cumulative_total_deaths</th>\n",
       "      <th>daily_new_deaths</th>\n",
       "    </tr>\n",
       "  </thead>\n",
       "  <tbody>\n",
       "    <tr>\n",
       "      <th>count</th>\n",
       "      <td>1.847870e+05</td>\n",
       "      <td>174329.000000</td>\n",
       "      <td>1.667470e+05</td>\n",
       "      <td>1.782270e+05</td>\n",
       "      <td>157850.000000</td>\n",
       "    </tr>\n",
       "    <tr>\n",
       "      <th>mean</th>\n",
       "      <td>7.251089e+05</td>\n",
       "      <td>2987.633285</td>\n",
       "      <td>6.239283e+04</td>\n",
       "      <td>1.388600e+04</td>\n",
       "      <td>39.831834</td>\n",
       "    </tr>\n",
       "    <tr>\n",
       "      <th>std</th>\n",
       "      <td>3.681471e+06</td>\n",
       "      <td>17803.232663</td>\n",
       "      <td>3.955641e+05</td>\n",
       "      <td>6.049521e+04</td>\n",
       "      <td>181.102770</td>\n",
       "    </tr>\n",
       "    <tr>\n",
       "      <th>min</th>\n",
       "      <td>0.000000e+00</td>\n",
       "      <td>-322.000000</td>\n",
       "      <td>-1.432100e+04</td>\n",
       "      <td>0.000000e+00</td>\n",
       "      <td>-39.000000</td>\n",
       "    </tr>\n",
       "    <tr>\n",
       "      <th>25%</th>\n",
       "      <td>1.099000e+03</td>\n",
       "      <td>0.000000</td>\n",
       "      <td>6.000000e+01</td>\n",
       "      <td>2.400000e+01</td>\n",
       "      <td>0.000000</td>\n",
       "    </tr>\n",
       "    <tr>\n",
       "      <th>50%</th>\n",
       "      <td>1.775600e+04</td>\n",
       "      <td>58.000000</td>\n",
       "      <td>1.386000e+03</td>\n",
       "      <td>3.040000e+02</td>\n",
       "      <td>1.000000</td>\n",
       "    </tr>\n",
       "    <tr>\n",
       "      <th>75%</th>\n",
       "      <td>2.238085e+05</td>\n",
       "      <td>728.000000</td>\n",
       "      <td>1.462050e+04</td>\n",
       "      <td>4.111000e+03</td>\n",
       "      <td>12.000000</td>\n",
       "    </tr>\n",
       "    <tr>\n",
       "      <th>max</th>\n",
       "      <td>8.420947e+07</td>\n",
       "      <td>909610.000000</td>\n",
       "      <td>1.793543e+07</td>\n",
       "      <td>1.026646e+06</td>\n",
       "      <td>5093.000000</td>\n",
       "    </tr>\n",
       "  </tbody>\n",
       "</table>\n",
       "</div>"
      ],
      "text/plain": [
       "       cumulative_total_cases  daily_new_cases  active_cases  \\\n",
       "count            1.847870e+05    174329.000000  1.667470e+05   \n",
       "mean             7.251089e+05      2987.633285  6.239283e+04   \n",
       "std              3.681471e+06     17803.232663  3.955641e+05   \n",
       "min              0.000000e+00      -322.000000 -1.432100e+04   \n",
       "25%              1.099000e+03         0.000000  6.000000e+01   \n",
       "50%              1.775600e+04        58.000000  1.386000e+03   \n",
       "75%              2.238085e+05       728.000000  1.462050e+04   \n",
       "max              8.420947e+07    909610.000000  1.793543e+07   \n",
       "\n",
       "       cumulative_total_deaths  daily_new_deaths  \n",
       "count             1.782270e+05     157850.000000  \n",
       "mean              1.388600e+04         39.831834  \n",
       "std               6.049521e+04        181.102770  \n",
       "min               0.000000e+00        -39.000000  \n",
       "25%               2.400000e+01          0.000000  \n",
       "50%               3.040000e+02          1.000000  \n",
       "75%               4.111000e+03         12.000000  \n",
       "max               1.026646e+06       5093.000000  "
      ]
     },
     "execution_count": 12,
     "metadata": {},
     "output_type": "execute_result"
    }
   ],
   "source": [
    "daily_df.describe()"
   ]
  },
  {
   "cell_type": "markdown",
   "id": "625e79f1",
   "metadata": {},
   "source": [
    "#### Categorical Summary of Data"
   ]
  },
  {
   "cell_type": "code",
   "execution_count": 13,
   "id": "3a01cee7",
   "metadata": {},
   "outputs": [
    {
     "data": {
      "text/html": [
       "<div>\n",
       "<style scoped>\n",
       "    .dataframe tbody tr th:only-of-type {\n",
       "        vertical-align: middle;\n",
       "    }\n",
       "\n",
       "    .dataframe tbody tr th {\n",
       "        vertical-align: top;\n",
       "    }\n",
       "\n",
       "    .dataframe thead th {\n",
       "        text-align: right;\n",
       "    }\n",
       "</style>\n",
       "<table border=\"1\" class=\"dataframe\">\n",
       "  <thead>\n",
       "    <tr style=\"text-align: right;\">\n",
       "      <th></th>\n",
       "      <th>date</th>\n",
       "      <th>country</th>\n",
       "    </tr>\n",
       "  </thead>\n",
       "  <tbody>\n",
       "    <tr>\n",
       "      <th>count</th>\n",
       "      <td>184787</td>\n",
       "      <td>184787</td>\n",
       "    </tr>\n",
       "    <tr>\n",
       "      <th>unique</th>\n",
       "      <td>844</td>\n",
       "      <td>226</td>\n",
       "    </tr>\n",
       "    <tr>\n",
       "      <th>top</th>\n",
       "      <td>2021-11-28</td>\n",
       "      <td>China</td>\n",
       "    </tr>\n",
       "    <tr>\n",
       "      <th>freq</th>\n",
       "      <td>226</td>\n",
       "      <td>844</td>\n",
       "    </tr>\n",
       "  </tbody>\n",
       "</table>\n",
       "</div>"
      ],
      "text/plain": [
       "              date country\n",
       "count       184787  184787\n",
       "unique         844     226\n",
       "top     2021-11-28   China\n",
       "freq           226     844"
      ]
     },
     "execution_count": 13,
     "metadata": {},
     "output_type": "execute_result"
    }
   ],
   "source": [
    "daily_df.describe(include = 'O')"
   ]
  },
  {
   "cell_type": "markdown",
   "id": "41b2aa62",
   "metadata": {},
   "source": [
    "* There are total 226 countries about which we're having the data\n",
    "* China is the most frequent country in the data"
   ]
  },
  {
   "cell_type": "code",
   "execution_count": 21,
   "id": "32f6eeb7",
   "metadata": {},
   "outputs": [],
   "source": [
    "#convert data into date time\n",
    "daily_df['date'] = pd.to_datetime(daily_df['date'])"
   ]
  },
  {
   "cell_type": "code",
   "execution_count": null,
   "id": "e8649a04",
   "metadata": {},
   "outputs": [],
   "source": []
  }
 ],
 "metadata": {
  "kernelspec": {
   "display_name": "Python 3 (ipykernel)",
   "language": "python",
   "name": "python3"
  },
  "language_info": {
   "codemirror_mode": {
    "name": "ipython",
    "version": 3
   },
   "file_extension": ".py",
   "mimetype": "text/x-python",
   "name": "python",
   "nbconvert_exporter": "python",
   "pygments_lexer": "ipython3",
   "version": "3.9.18"
  }
 },
 "nbformat": 4,
 "nbformat_minor": 5
}
